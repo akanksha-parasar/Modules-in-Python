{
  "nbformat": 4,
  "nbformat_minor": 0,
  "metadata": {
    "colab": {
      "name": "modules_ in_python.ipynb",
      "provenance": [],
      "collapsed_sections": [],
      "authorship_tag": "ABX9TyPVhzg5BfTXufvUoHQKcr9M",
      "include_colab_link": true
    },
    "kernelspec": {
      "name": "python3",
      "display_name": "Python 3"
    },
    "language_info": {
      "name": "python"
    }
  },
  "cells": [
    {
      "cell_type": "markdown",
      "metadata": {
        "id": "view-in-github",
        "colab_type": "text"
      },
      "source": [
        "<a href=\"https://colab.research.google.com/github/akanksha-parasar/Modules-in-Python/blob/main/modules__in_python.ipynb\" target=\"_parent\"><img src=\"https://colab.research.google.com/assets/colab-badge.svg\" alt=\"Open In Colab\"/></a>"
      ]
    },
    {
      "cell_type": "markdown",
      "source": [
        ""
      ],
      "metadata": {
        "id": "w-fEo4bmNPo4"
      }
    },
    {
      "cell_type": "markdown",
      "source": [
        ""
      ],
      "metadata": {
        "id": "VoTXEbweNOtm"
      }
    },
    {
      "cell_type": "code",
      "source": [
        "from itertools import permutations\n",
        "import timeit\n",
        "from random import shuffle\n",
        "import zlib\n",
        "import re\n",
        "import math\n",
        "import os, time\n",
        "import urllib\n",
        "import sys"
      ],
      "metadata": {
        "id": "pK2o6Mj9fBFM"
      },
      "execution_count": 1,
      "outputs": []
    },
    {
      "cell_type": "code",
      "execution_count": null,
      "metadata": {
        "colab": {
          "base_uri": "https://localhost:8080/"
        },
        "id": "-X8wvJYBnB7S",
        "outputId": "8c9daf15-aa07-492c-c66b-2effece13cbd"
      },
      "outputs": [
        {
          "output_type": "stream",
          "name": "stdout",
          "text": [
            "Writing modules_example.py\n"
          ]
        }
      ],
      "source": [
        "%%writefile modules_example.py\n",
        "def lab(labname):\n",
        "  print (\"Welcome to\"+labname)\n",
        "\n",
        "def sum(n1,n2):\n",
        "  res = n1+n2\n",
        "  return res\n",
        "  print (\"sum of two numbers\",res)"
      ]
    },
    {
      "cell_type": "code",
      "source": [
        "import modules_example\n",
        "modules_example.lab(\" Python\")"
      ],
      "metadata": {
        "colab": {
          "base_uri": "https://localhost:8080/"
        },
        "id": "7LBACilKvfYC",
        "outputId": "81e382f8-9478-489a-e6d0-2a9264fcd6e5"
      },
      "execution_count": null,
      "outputs": [
        {
          "output_type": "stream",
          "name": "stdout",
          "text": [
            "Welcome toPython\n"
          ]
        }
      ]
    },
    {
      "cell_type": "code",
      "source": [
        "#Built in module\n",
        "import math as ma\n",
        "from math import *\n",
        "print('Pi:',ma.pi)\n",
        "print('Pi:',math.pi)\n",
        "print('Pi:',ma.pi)"
      ],
      "metadata": {
        "colab": {
          "base_uri": "https://localhost:8080/"
        },
        "id": "VFecc5ALv2uY",
        "outputId": "118e44c5-9990-495b-a409-6d7b93036589"
      },
      "execution_count": null,
      "outputs": [
        {
          "output_type": "stream",
          "name": "stdout",
          "text": [
            "Pi: 3.141592653589793\n",
            "Pi: 3.141592653589793\n",
            "Pi: 3.141592653589793\n"
          ]
        }
      ]
    },
    {
      "cell_type": "code",
      "source": [
        "print(dir(math))"
      ],
      "metadata": {
        "colab": {
          "base_uri": "https://localhost:8080/"
        },
        "id": "4fY3qaD1wSZd",
        "outputId": "9759d952-d09c-469b-c437-044e04367b42"
      },
      "execution_count": null,
      "outputs": [
        {
          "output_type": "stream",
          "name": "stdout",
          "text": [
            "['__doc__', '__loader__', '__name__', '__package__', '__spec__', 'acos', 'acosh', 'asin', 'asinh', 'atan', 'atan2', 'atanh', 'ceil', 'copysign', 'cos', 'cosh', 'degrees', 'e', 'erf', 'erfc', 'exp', 'expm1', 'fabs', 'factorial', 'floor', 'fmod', 'frexp', 'fsum', 'gamma', 'gcd', 'hypot', 'inf', 'isclose', 'isfinite', 'isinf', 'isnan', 'ldexp', 'lgamma', 'log', 'log10', 'log1p', 'log2', 'modf', 'nan', 'pi', 'pow', 'radians', 'remainder', 'sin', 'sinh', 'sqrt', 'tan', 'tanh', 'tau', 'trunc']\n"
          ]
        }
      ]
    },
    {
      "cell_type": "code",
      "source": [
        "import time\n",
        "print(time.asctime())"
      ],
      "metadata": {
        "colab": {
          "base_uri": "https://localhost:8080/"
        },
        "id": "M41yUbfxvt3I",
        "outputId": "2b96591f-6183-46a5-a6bd-6316da946e73"
      },
      "execution_count": null,
      "outputs": [
        {
          "output_type": "stream",
          "name": "stdout",
          "text": [
            "Wed Dec 29 10:45:24 2021\n"
          ]
        }
      ]
    },
    {
      "cell_type": "markdown",
      "source": [
        "1. Write a program which prints all permutations of [1,2,3,4,5,6,7,8,9]\n",
        "Use itertools module\n",
        "\n"
      ],
      "metadata": {
        "id": "4RSeCsa0zXof"
      }
    },
    {
      "cell_type": "code",
      "source": [
        "import itertools\n",
        "list1 = [1,2,3,4]\n",
        "Per = itertools.permutations(list1,3)\n",
        "for i in Per:\n",
        "  print(i)"
      ],
      "metadata": {
        "id": "DTEDUG0xzW9N",
        "colab": {
          "base_uri": "https://localhost:8080/"
        },
        "outputId": "b1632b2f-a439-4066-dab4-cac024e4a37f"
      },
      "execution_count": null,
      "outputs": [
        {
          "output_type": "stream",
          "name": "stdout",
          "text": [
            "(1, 2, 3)\n",
            "(1, 2, 4)\n",
            "(1, 3, 2)\n",
            "(1, 3, 4)\n",
            "(1, 4, 2)\n",
            "(1, 4, 3)\n",
            "(2, 1, 3)\n",
            "(2, 1, 4)\n",
            "(2, 3, 1)\n",
            "(2, 3, 4)\n",
            "(2, 4, 1)\n",
            "(2, 4, 3)\n",
            "(3, 1, 2)\n",
            "(3, 1, 4)\n",
            "(3, 2, 1)\n",
            "(3, 2, 4)\n",
            "(3, 4, 1)\n",
            "(3, 4, 2)\n",
            "(4, 1, 2)\n",
            "(4, 1, 3)\n",
            "(4, 2, 1)\n",
            "(4, 2, 3)\n",
            "(4, 3, 1)\n",
            "(4, 3, 2)\n"
          ]
        }
      ]
    },
    {
      "cell_type": "markdown",
      "source": [
        "2. Write a program to shuffle and print the list of 10 numbers. Use random\n",
        "module"
      ],
      "metadata": {
        "id": "bnGDH1X8-Gnl"
      }
    },
    {
      "cell_type": "code",
      "source": [
        "import random\n",
        "list2 = [1,2,3,4,5,6,7,8,9,10]\n",
        "random.shuffle(list2)\n",
        "print('Shuffled list:',list2)"
      ],
      "metadata": {
        "colab": {
          "base_uri": "https://localhost:8080/"
        },
        "id": "thXFfw6U9_Pb",
        "outputId": "af7e80e9-7747-488e-aea3-68710eaa6d79"
      },
      "execution_count": null,
      "outputs": [
        {
          "output_type": "stream",
          "name": "stdout",
          "text": [
            "Shuffled list: [1, 6, 4, 5, 3, 7, 2, 9, 10, 8]\n"
          ]
        }
      ]
    },
    {
      "cell_type": "markdown",
      "source": [
        "3. Write a program to print the running time of execution of “1+1” for 100\n",
        "times. Use timeit"
      ],
      "metadata": {
        "id": "ZLNz6yt1_g4D"
      }
    },
    {
      "cell_type": "code",
      "source": [
        "from timeit import Timer\n",
        "t = Timer(\"for i in range(100):1+1\")\n",
        "print (\"Time taken for execution of 1+1 100 times:\",t.timeit())\n"
      ],
      "metadata": {
        "colab": {
          "base_uri": "https://localhost:8080/"
        },
        "id": "M2iQDJul_nJD",
        "outputId": "5276c542-de25-4308-c75f-25e81a4c46a4"
      },
      "execution_count": null,
      "outputs": [
        {
          "output_type": "stream",
          "name": "stdout",
          "text": [
            "Time taken for execution of 1+1 100 times: 1.6352904189998299\n"
          ]
        }
      ]
    },
    {
      "cell_type": "markdown",
      "source": [
        "4.Write a program to compress and decompress a user inputted string. Use zlib\n"
      ],
      "metadata": {
        "id": "c_2bDYXgFW2V"
      }
    },
    {
      "cell_type": "code",
      "source": [
        "import zlib\n",
        "s=b'New Year is around the corner'\n",
        "s1=zlib.compress(s)\n",
        "s2=zlib.decompress(s1)\n",
        "print(\"Compressed String is :\",s1)\n",
        "print(\"Decompressed String is :\",s2)\n"
      ],
      "metadata": {
        "id": "HjkM9KLpFUF1",
        "colab": {
          "base_uri": "https://localhost:8080/",
          "height": 0
        },
        "outputId": "258006cc-6738-4147-a8ad-07279c1056c3"
      },
      "execution_count": 5,
      "outputs": [
        {
          "output_type": "stream",
          "name": "stdout",
          "text": [
            "Compressed String is : b'x\\x9c\\xf3K-W\\x88LM,R\\xc8,VH,\\xca/\\xcdKQ(\\xc9HUH\\xce/\\xcaK-\\x02\\x00\\x996\\n\\x8b'\n",
            "Decompressed String is : b'New Year is around the corner'\n"
          ]
        }
      ]
    },
    {
      "cell_type": "markdown",
      "source": [
        "5.A website requires the users to input username and password to register.\n",
        "Write a program to check the validity of password input by users.\n",
        "Following are the criteria for checking the password:\n",
        "1. At least 1 letter between [a-z]\n",
        "2. At least 1 number between [0-9]\n",
        "3. At least 1 letter between [A-Z]\n",
        "4\n",
        ". At least 1 character from [$#@]\n",
        "\n",
        "5. Minimum length of transaction password: 6\n",
        "6. Maximum length of transaction password: 12\n",
        "Your program should accept a sequence of comma separated passwords\n",
        "and must check them according to the above criteria. Passwords that\n",
        "match the criteria are to be printed, each separated by a comma. Use “re”\n"
      ],
      "metadata": {
        "id": "KVkmFLUAGGzt"
      }
    },
    {
      "cell_type": "code",
      "source": [
        "import re\n",
        "list5 = []\n",
        "\n",
        "n = int(input(\"number of entries: \"))\n",
        "\n",
        "for i in range(0, n):\n",
        "    ele = (input())\n",
        " \n",
        "    list5.append(ele)\n",
        "     \n",
        "# print(lst)\n",
        "\n",
        "reg = \"^(?=.*[a-z])(?=.*[A-Z])(?=.*\\d)(?=.*[@$#])[A-Za-z\\d@$#]{6,12}$\"\n",
        "match_re = re.compile(reg)\n",
        "for i in range(0,len(list5)):\n",
        "    res=0\n",
        "    res = re.search(match_re,list5[i])\n",
        "    if res:\n",
        "        print(list5[i])\n"
      ],
      "metadata": {
        "colab": {
          "base_uri": "https://localhost:8080/",
          "height": 0
        },
        "id": "HDQrQ9RFF89m",
        "outputId": "bd1d5bd9-a249-47da-cef7-19e9299708a1"
      },
      "execution_count": 11,
      "outputs": [
        {
          "output_type": "stream",
          "name": "stdout",
          "text": [
            "number of entries: 2\n",
            "Akanksha@02\n",
            "Chiyu*02\n",
            "Akanksha@02\n"
          ]
        }
      ]
    },
    {
      "cell_type": "markdown",
      "source": [
        "6. A robot moves in a plane starting from the original point (0,0). The robot can\n",
        "move toward UP, DOWN, LEFT and RIGHT with a given steps. The trace of\n",
        "robot movement is shown as the following:\n",
        "UP 5\n",
        "DOWN 3\n",
        "LEFT 3\n",
        "RIGHT 2\n",
        "The numbers after the direction are steps. Write a program to compute the\n",
        "distance from the current position after a sequence of movement and original\n",
        "point. If the distance is a float then just print the nearest integer. Use “math”"
      ],
      "metadata": {
        "id": "xWLLul_4e2v3"
      }
    },
    {
      "cell_type": "code",
      "source": [
        "x, y = 0, 0\n",
        "\n",
        "while True:\n",
        "    step = input(\"Type in UP/DOWN/LEFT/RIGHT #step number: \")\n",
        "\n",
        "    if step == \"\":\n",
        "        break\n",
        "\n",
        "    else:\n",
        "        step = step.split(\" \")\n",
        "\n",
        "        if step[0] == \"UP\":\n",
        "            y = y + int(step[1])\n",
        "        elif step[0] == \"DOWN\":\n",
        "            y = y - int(step[1])\n",
        "        elif step[0] == \"LEFT\":\n",
        "            x = x - int(step[1])\n",
        "        elif step[0] == \"RIGHT\":\n",
        "            x = x + int(step[1])\n",
        "\n",
        "c = math.sqrt(x*2 + y*2)\n",
        "\n",
        "print(\"Distance:\", c)"
      ],
      "metadata": {
        "colab": {
          "base_uri": "https://localhost:8080/",
          "height": 0
        },
        "id": "s20N8-uZe4mG",
        "outputId": "b6d9a976-5dab-4aac-d696-52688d2b9736"
      },
      "execution_count": 7,
      "outputs": [
        {
          "output_type": "stream",
          "name": "stdout",
          "text": [
            "Type in UP/DOWN/LEFT/RIGHT #step number: 2\n",
            "Type in UP/DOWN/LEFT/RIGHT #step number: 1\n",
            "Type in UP/DOWN/LEFT/RIGHT #step number: 4\n",
            "Type in UP/DOWN/LEFT/RIGHT #step number: 3\n",
            "Type in UP/DOWN/LEFT/RIGHT #step number: 2\n",
            "Type in UP/DOWN/LEFT/RIGHT #step number: \n",
            "Distance: 0.0\n"
          ]
        }
      ]
    },
    {
      "cell_type": "markdown",
      "source": [
        "7.Write a program to list all files in the given directory. Use os or os.pat"
      ],
      "metadata": {
        "id": "YxBJ8xYKIOgl"
      }
    },
    {
      "cell_type": "code",
      "source": [
        "\n",
        "path=\"/content\"\n",
        "files_list=os.listdir(path)\n",
        "print(\"List of files: \")\n",
        "print(files_list)\n"
      ],
      "metadata": {
        "colab": {
          "base_uri": "https://localhost:8080/",
          "height": 0
        },
        "id": "cXrrAD5PHl8E",
        "outputId": "5ebc25cb-4978-4022-fd76-4c8e7c6ab3bc"
      },
      "execution_count": 3,
      "outputs": [
        {
          "output_type": "stream",
          "name": "stdout",
          "text": [
            "List of files: \n",
            "['.config', 'sample_data']\n"
          ]
        }
      ]
    },
    {
      "cell_type": "markdown",
      "source": [
        "8.Write a program to count number of files for each extension in the given\n",
        "directory. The program should take a directory name as argument and print\n",
        "count and extension for each available file extension. Use os or os.path\n"
      ],
      "metadata": {
        "id": "tpNRIQhAJJt0"
      }
    },
    {
      "cell_type": "code",
      "source": [
        "extension=input(\"Enter extension\")\n",
        "cnt=0\n",
        "for file in os.listdir(\"/content\"):\n",
        "    if file.endswith(extension):\n",
        "        cnt+=1\n",
        "print(cnt)"
      ],
      "metadata": {
        "colab": {
          "base_uri": "https://localhost:8080/",
          "height": 0
        },
        "id": "DhgpEs8QJaZT",
        "outputId": "5751fa89-cc25-48ef-ac59-1b630206e4b7"
      },
      "execution_count": 4,
      "outputs": [
        {
          "output_type": "stream",
          "name": "stdout",
          "text": [
            "Enter extension.py\n",
            "1\n"
          ]
        }
      ]
    },
    {
      "cell_type": "markdown",
      "source": [
        "9.Write a program to list all the files in the given directory along with their\n",
        "length and last modification time. The output should contain one line for each\n",
        "file containing filename, length and modification date separated by tabs. Use\n",
        "os.stat\n"
      ],
      "metadata": {
        "id": "pOwaIljiK-3Q"
      }
    },
    {
      "cell_type": "code",
      "source": [
        "def get_information(directory):\n",
        "    file_list = []\n",
        "    for i in os.listdir(directory):\n",
        "        a = os.stat(os.path.join(directory,i))\n",
        "        file_list.append([i,time.ctime(a.st_atime),time.ctime(a.st_ctime)]) #[file,most_recent_access,created]\n",
        "    return file_list\n",
        "\n",
        "print(get_information(\"/content\"))"
      ],
      "metadata": {
        "colab": {
          "base_uri": "https://localhost:8080/",
          "height": 0
        },
        "id": "LmyzbQBULh6C",
        "outputId": "2d03deee-0d3b-4bb2-c0ba-62da74e3d031"
      },
      "execution_count": 5,
      "outputs": [
        {
          "output_type": "stream",
          "name": "stdout",
          "text": [
            "[['.config', 'Tue Dec 21 15:10:28 2021', 'Tue Dec 21 15:10:28 2021'], ['.ipynb_checkpoints', 'Thu Dec 30 18:02:56 2021', 'Thu Dec 30 18:02:56 2021'], ['cheeku.py', 'Thu Dec 30 18:02:38 2021', 'Thu Dec 30 18:02:56 2021'], ['sample_data', 'Tue Dec 21 15:11:06 2021', 'Tue Dec 21 15:11:06 2021']]\n"
          ]
        }
      ]
    },
    {
      "cell_type": "markdown",
      "source": [
        "10.Write a program to download a given URL. The program should accept a\n",
        "URL as argument, download it and save it with the basename of the URL. If the\n",
        "URL ends with a /, consider the basename as index.html. Use urllib\n"
      ],
      "metadata": {
        "id": "a-SYEgm7L84-"
      }
    },
    {
      "cell_type": "markdown",
      "source": [
        ""
      ],
      "metadata": {
        "id": "5eKT6qn1INsp"
      }
    },
    {
      "cell_type": "code",
      "source": [
        "def wget(x):\n",
        "\tr=urllib.urlopen(x)\n",
        "\tcont=r.read()\n",
        "\tname=x.split('/')\n",
        "\tn=name[-1]\n",
        "\tif n=='':\n",
        "\t\tn='index.html'\n",
        "\tf=open(n,'w')\n",
        "\tf.write(cont)\n",
        "wget(sys.argv[1])\n",
        "#this code will work in Python2"
      ],
      "metadata": {
        "colab": {
          "base_uri": "https://localhost:8080/",
          "height": 322
        },
        "id": "dPiJkp9JMYou",
        "outputId": "6bb41156-299d-4b64-fd87-ac0a2a7a31a7"
      },
      "execution_count": 6,
      "outputs": [
        {
          "output_type": "error",
          "ename": "AttributeError",
          "evalue": "ignored",
          "traceback": [
            "\u001b[0;31m---------------------------------------------------------------------------\u001b[0m",
            "\u001b[0;31mAttributeError\u001b[0m                            Traceback (most recent call last)",
            "\u001b[0;32m<ipython-input-6-dac0b369a3c7>\u001b[0m in \u001b[0;36m<module>\u001b[0;34m()\u001b[0m\n\u001b[1;32m      8\u001b[0m         \u001b[0mf\u001b[0m\u001b[0;34m=\u001b[0m\u001b[0mopen\u001b[0m\u001b[0;34m(\u001b[0m\u001b[0mn\u001b[0m\u001b[0;34m,\u001b[0m\u001b[0;34m'w'\u001b[0m\u001b[0;34m)\u001b[0m\u001b[0;34m\u001b[0m\u001b[0;34m\u001b[0m\u001b[0m\n\u001b[1;32m      9\u001b[0m         \u001b[0mf\u001b[0m\u001b[0;34m.\u001b[0m\u001b[0mwrite\u001b[0m\u001b[0;34m(\u001b[0m\u001b[0mcont\u001b[0m\u001b[0;34m)\u001b[0m\u001b[0;34m\u001b[0m\u001b[0;34m\u001b[0m\u001b[0m\n\u001b[0;32m---> 10\u001b[0;31m \u001b[0mwget\u001b[0m\u001b[0;34m(\u001b[0m\u001b[0msys\u001b[0m\u001b[0;34m.\u001b[0m\u001b[0margv\u001b[0m\u001b[0;34m[\u001b[0m\u001b[0;36m1\u001b[0m\u001b[0;34m]\u001b[0m\u001b[0;34m)\u001b[0m\u001b[0;34m\u001b[0m\u001b[0;34m\u001b[0m\u001b[0m\n\u001b[0m",
            "\u001b[0;32m<ipython-input-6-dac0b369a3c7>\u001b[0m in \u001b[0;36mwget\u001b[0;34m(x)\u001b[0m\n\u001b[1;32m      1\u001b[0m \u001b[0;32mdef\u001b[0m \u001b[0mwget\u001b[0m\u001b[0;34m(\u001b[0m\u001b[0mx\u001b[0m\u001b[0;34m)\u001b[0m\u001b[0;34m:\u001b[0m\u001b[0;34m\u001b[0m\u001b[0;34m\u001b[0m\u001b[0m\n\u001b[0;32m----> 2\u001b[0;31m         \u001b[0mr\u001b[0m\u001b[0;34m=\u001b[0m\u001b[0murllib\u001b[0m\u001b[0;34m.\u001b[0m\u001b[0murlopen\u001b[0m\u001b[0;34m(\u001b[0m\u001b[0mx\u001b[0m\u001b[0;34m)\u001b[0m\u001b[0;34m\u001b[0m\u001b[0;34m\u001b[0m\u001b[0m\n\u001b[0m\u001b[1;32m      3\u001b[0m         \u001b[0mcont\u001b[0m\u001b[0;34m=\u001b[0m\u001b[0mr\u001b[0m\u001b[0;34m.\u001b[0m\u001b[0mread\u001b[0m\u001b[0;34m(\u001b[0m\u001b[0;34m)\u001b[0m\u001b[0;34m\u001b[0m\u001b[0;34m\u001b[0m\u001b[0m\n\u001b[1;32m      4\u001b[0m         \u001b[0mname\u001b[0m\u001b[0;34m=\u001b[0m\u001b[0mx\u001b[0m\u001b[0;34m.\u001b[0m\u001b[0msplit\u001b[0m\u001b[0;34m(\u001b[0m\u001b[0;34m'/'\u001b[0m\u001b[0;34m)\u001b[0m\u001b[0;34m\u001b[0m\u001b[0;34m\u001b[0m\u001b[0m\n\u001b[1;32m      5\u001b[0m         \u001b[0mn\u001b[0m\u001b[0;34m=\u001b[0m\u001b[0mname\u001b[0m\u001b[0;34m[\u001b[0m\u001b[0;34m-\u001b[0m\u001b[0;36m1\u001b[0m\u001b[0;34m]\u001b[0m\u001b[0;34m\u001b[0m\u001b[0;34m\u001b[0m\u001b[0m\n",
            "\u001b[0;31mAttributeError\u001b[0m: module 'urllib' has no attribute 'urlopen'"
          ]
        }
      ]
    },
    {
      "cell_type": "markdown",
      "source": [
        ""
      ],
      "metadata": {
        "id": "0jEzzSdJNKFt"
      }
    },
    {
      "cell_type": "markdown",
      "source": [
        ""
      ],
      "metadata": {
        "id": "jixvtz88NLzi"
      }
    },
    {
      "cell_type": "markdown",
      "source": [
        ""
      ],
      "metadata": {
        "id": "XWFx3jM0HuYY"
      }
    }
  ]
}